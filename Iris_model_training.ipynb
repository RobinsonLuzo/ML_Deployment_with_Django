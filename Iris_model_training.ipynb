{
 "cells": [
  {
   "cell_type": "markdown",
   "metadata": {},
   "source": [
    "# Iris prediction model training:\n",
    "\n",
    "Using the provided .csv file to create a Support Vector (SVC) model that will predict an iris type given a certain input. The source csv can also be loaded in from *sklearn.datasets*."
   ]
  },
  {
   "cell_type": "code",
   "execution_count": 1,
   "metadata": {},
   "outputs": [
    {
     "name": "stdout",
     "output_type": "stream",
     "text": [
      "Accuracy: 0.9666666666666667\n"
     ]
    }
   ],
   "source": [
    "import joblib\n",
    "import os\n",
    "import pandas as pd\n",
    "from sklearn.metrics import accuracy_score\n",
    "from sklearn.model_selection import train_test_split\n",
    "from sklearn.svm import SVC\n",
    "\n",
    "\n",
    "# load dataset:\n",
    "iris_data = pd.read_csv(os.getcwd() + '\\\\Desktop\\\\Projects\\\\ML_Deployment_with_Django\\\\data\\\\iris.csv')\n",
    "\n",
    "# split into training and test data. 80/20 split here:\n",
    "y = iris_data.pop('classification')\n",
    "X = iris_data\n",
    "\n",
    "X_train, X_test, Y_train, Y_test = train_test_split(X, y, test_size=0.20, random_state=1)\n",
    "\n",
    "# train model:\n",
    "model = SVC(gamma='auto')\n",
    "model.fit(X_train, Y_train)\n",
    "\n",
    "# predict:\n",
    "predictions = model.predict(X_test)\n",
    "print(\"Accuracy: {}\".format(accuracy_score(Y_test, predictions)))"
   ]
  },
  {
   "cell_type": "code",
   "execution_count": 2,
   "metadata": {},
   "outputs": [
    {
     "name": "stdout",
     "output_type": "stream",
     "text": [
      "Enter sepal_length: 1\n",
      "Enter sepa_width: 2\n",
      "Enter petal_length: 2\n",
      "Enter petal_width: 2\n",
      "['Iris-virginica']\n"
     ]
    }
   ],
   "source": [
    "# Save model to disk:\n",
    "joblib.dump(model, os.getcwd() + '\\\\Desktop\\\\Projects\\\\ML_Deployment_with_Django\\\\saved_model\\\\iris_prediction.pkl')\n",
    "\n",
    "# Take input from user - similar format to form we will use in Django:\n",
    "sepal_length = float(input(\"Enter sepal_length: \"))\n",
    "sepal_width = float(input(\"Enter sepa_width: \"))\n",
    "petal_length = float(input(\"Enter petal_length: \"))\n",
    "petal_width = float(input(\"Enter petal_width: \"))\n",
    "\n",
    "result = model.predict([[sepal_length, sepal_width, petal_length, petal_width]])  # input must be 2D array\n",
    "print(result)"
   ]
  }
 ],
 "metadata": {
  "kernelspec": {
   "display_name": "Python 3",
   "language": "python",
   "name": "python3"
  },
  "language_info": {
   "codemirror_mode": {
    "name": "ipython",
    "version": 3
   },
   "file_extension": ".py",
   "mimetype": "text/x-python",
   "name": "python",
   "nbconvert_exporter": "python",
   "pygments_lexer": "ipython3",
   "version": "3.7.6"
  }
 },
 "nbformat": 4,
 "nbformat_minor": 4
}
